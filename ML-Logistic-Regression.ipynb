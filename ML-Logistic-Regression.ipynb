{
 "cells": [
  {
   "cell_type": "markdown",
   "metadata": {},
   "source": [
    "### Import Libraries"
   ]
  },
  {
   "cell_type": "code",
   "execution_count": 1,
   "metadata": {},
   "outputs": [],
   "source": [
    "import os\n",
    "import sys\n",
    "import numpy as np\n",
    "import pandas as pd\n",
    "import matplotlib.pyplot as plt\n",
    "import seaborn as sns\n",
    "# machine learning libraries\n",
    "from sklearn import datasets\n",
    "from sklearn.model_selection import train_test_split\n",
    "from sklearn.neighbors import KNeighborsClassifier\n",
    "from sklearn.linear_model import LogisticRegression\n",
    "from sklearn.metrics import confusion_matrix\n",
    "from sklearn.metrics import classification_report\n",
    "from sklearn.metrics import roc_curve\n",
    "from sklearn.metrics import roc_auc_score\n",
    "plt.style.use(\"ggplot\")\n",
    "%matplotlib inline"
   ]
  },
  {
   "cell_type": "markdown",
   "metadata": {},
   "source": [
    "### Import the dataset"
   ]
  },
  {
   "cell_type": "code",
   "execution_count": 2,
   "metadata": {},
   "outputs": [],
   "source": [
    "df_in = pd.read_csv(\"dataset-for-Machine-learning.csv\")"
   ]
  },
  {
   "cell_type": "markdown",
   "metadata": {},
   "source": [
    "### Exploratory Data Analysis (EDA)\n",
    "type(df), df.shape, df.ndim,\n",
    "df.head(n=6), df.tail(),\n",
    "df.columns,\n",
    "df.info(), df.count(), df.dtypes,\n",
    "df.describe()"
   ]
  },
  {
   "cell_type": "code",
   "execution_count": 3,
   "metadata": {},
   "outputs": [
    {
     "name": "stdout",
     "output_type": "stream",
     "text": [
      "<class 'pandas.core.frame.DataFrame'>\n",
      "(1012, 81) 2\n",
      "Index(['var0', 'var1', 'var2', 'var3', 'var4', 'var5', 'var6', 'var7', 'var8',\n",
      "       'var9', 'var10', 'var11', 'var12', 'var13', 'var14', 'var15', 'var16',\n",
      "       'var17', 'var18', 'var19', 'var20', 'var21', 'var22', 'var23', 'var24',\n",
      "       'var25', 'var26', 'var27', 'var28', 'var29', 'var30', 'var31', 'var32',\n",
      "       'var33', 'var34', 'var35', 'var36', 'var37', 'var38', 'var39', 'var40',\n",
      "       'var41', 'var42', 'var43', 'var44', 'var45', 'var46', 'var47', 'var48',\n",
      "       'var49', 'var50', 'var51', 'var52', 'var53', 'var54', 'var55', 'var56',\n",
      "       'var57', 'var58', 'var59', 'var60', 'var61', 'var62', 'var63', 'var64',\n",
      "       'var65', 'var66', 'var67', 'var68', 'var69', 'var70', 'var71', 'var72',\n",
      "       'var73', 'var74', 'var75', 'var76', 'var77', 'var78', 'var79', 'var80'],\n",
      "      dtype='object')\n"
     ]
    },
    {
     "data": {
      "text/html": [
       "<div>\n",
       "<style scoped>\n",
       "    .dataframe tbody tr th:only-of-type {\n",
       "        vertical-align: middle;\n",
       "    }\n",
       "\n",
       "    .dataframe tbody tr th {\n",
       "        vertical-align: top;\n",
       "    }\n",
       "\n",
       "    .dataframe thead th {\n",
       "        text-align: right;\n",
       "    }\n",
       "</style>\n",
       "<table border=\"1\" class=\"dataframe\">\n",
       "  <thead>\n",
       "    <tr style=\"text-align: right;\">\n",
       "      <th></th>\n",
       "      <th>var0</th>\n",
       "      <th>var1</th>\n",
       "      <th>var2</th>\n",
       "      <th>var3</th>\n",
       "      <th>var4</th>\n",
       "      <th>var5</th>\n",
       "      <th>var6</th>\n",
       "      <th>var7</th>\n",
       "      <th>var8</th>\n",
       "      <th>var9</th>\n",
       "      <th>...</th>\n",
       "      <th>var71</th>\n",
       "      <th>var72</th>\n",
       "      <th>var73</th>\n",
       "      <th>var74</th>\n",
       "      <th>var75</th>\n",
       "      <th>var76</th>\n",
       "      <th>var77</th>\n",
       "      <th>var78</th>\n",
       "      <th>var79</th>\n",
       "      <th>var80</th>\n",
       "    </tr>\n",
       "  </thead>\n",
       "  <tbody>\n",
       "    <tr>\n",
       "      <th>0</th>\n",
       "      <td>NaN</td>\n",
       "      <td>NaN</td>\n",
       "      <td>NaN</td>\n",
       "      <td>NaN</td>\n",
       "      <td>NaN</td>\n",
       "      <td>NaN</td>\n",
       "      <td>NaN</td>\n",
       "      <td>NaN</td>\n",
       "      <td>NaN</td>\n",
       "      <td>NaN</td>\n",
       "      <td>...</td>\n",
       "      <td>0.780088</td>\n",
       "      <td>NaN</td>\n",
       "      <td>NaN</td>\n",
       "      <td>NaN</td>\n",
       "      <td>0.803526</td>\n",
       "      <td>NaN</td>\n",
       "      <td>NaN</td>\n",
       "      <td>NaN</td>\n",
       "      <td>NaN</td>\n",
       "      <td>1</td>\n",
       "    </tr>\n",
       "    <tr>\n",
       "      <th>1</th>\n",
       "      <td>NaN</td>\n",
       "      <td>NaN</td>\n",
       "      <td>NaN</td>\n",
       "      <td>NaN</td>\n",
       "      <td>NaN</td>\n",
       "      <td>NaN</td>\n",
       "      <td>NaN</td>\n",
       "      <td>NaN</td>\n",
       "      <td>NaN</td>\n",
       "      <td>NaN</td>\n",
       "      <td>...</td>\n",
       "      <td>NaN</td>\n",
       "      <td>NaN</td>\n",
       "      <td>NaN</td>\n",
       "      <td>NaN</td>\n",
       "      <td>0.561473</td>\n",
       "      <td>NaN</td>\n",
       "      <td>NaN</td>\n",
       "      <td>NaN</td>\n",
       "      <td>NaN</td>\n",
       "      <td>0</td>\n",
       "    </tr>\n",
       "    <tr>\n",
       "      <th>2</th>\n",
       "      <td>NaN</td>\n",
       "      <td>NaN</td>\n",
       "      <td>NaN</td>\n",
       "      <td>NaN</td>\n",
       "      <td>NaN</td>\n",
       "      <td>NaN</td>\n",
       "      <td>NaN</td>\n",
       "      <td>NaN</td>\n",
       "      <td>NaN</td>\n",
       "      <td>NaN</td>\n",
       "      <td>...</td>\n",
       "      <td>0.817810</td>\n",
       "      <td>NaN</td>\n",
       "      <td>NaN</td>\n",
       "      <td>NaN</td>\n",
       "      <td>NaN</td>\n",
       "      <td>NaN</td>\n",
       "      <td>NaN</td>\n",
       "      <td>NaN</td>\n",
       "      <td>NaN</td>\n",
       "      <td>1</td>\n",
       "    </tr>\n",
       "    <tr>\n",
       "      <th>3</th>\n",
       "      <td>NaN</td>\n",
       "      <td>NaN</td>\n",
       "      <td>NaN</td>\n",
       "      <td>NaN</td>\n",
       "      <td>NaN</td>\n",
       "      <td>NaN</td>\n",
       "      <td>NaN</td>\n",
       "      <td>NaN</td>\n",
       "      <td>NaN</td>\n",
       "      <td>NaN</td>\n",
       "      <td>...</td>\n",
       "      <td>0.734438</td>\n",
       "      <td>0.918015</td>\n",
       "      <td>NaN</td>\n",
       "      <td>NaN</td>\n",
       "      <td>NaN</td>\n",
       "      <td>NaN</td>\n",
       "      <td>NaN</td>\n",
       "      <td>NaN</td>\n",
       "      <td>NaN</td>\n",
       "      <td>0</td>\n",
       "    </tr>\n",
       "    <tr>\n",
       "      <th>4</th>\n",
       "      <td>NaN</td>\n",
       "      <td>NaN</td>\n",
       "      <td>NaN</td>\n",
       "      <td>NaN</td>\n",
       "      <td>NaN</td>\n",
       "      <td>NaN</td>\n",
       "      <td>NaN</td>\n",
       "      <td>NaN</td>\n",
       "      <td>NaN</td>\n",
       "      <td>NaN</td>\n",
       "      <td>...</td>\n",
       "      <td>NaN</td>\n",
       "      <td>NaN</td>\n",
       "      <td>NaN</td>\n",
       "      <td>NaN</td>\n",
       "      <td>NaN</td>\n",
       "      <td>NaN</td>\n",
       "      <td>NaN</td>\n",
       "      <td>NaN</td>\n",
       "      <td>NaN</td>\n",
       "      <td>1</td>\n",
       "    </tr>\n",
       "  </tbody>\n",
       "</table>\n",
       "<p>5 rows × 81 columns</p>\n",
       "</div>"
      ],
      "text/plain": [
       "   var0  var1  var2  var3  var4  var5  var6  var7  var8  var9  ...    \\\n",
       "0   NaN   NaN   NaN   NaN   NaN   NaN   NaN   NaN   NaN   NaN  ...     \n",
       "1   NaN   NaN   NaN   NaN   NaN   NaN   NaN   NaN   NaN   NaN  ...     \n",
       "2   NaN   NaN   NaN   NaN   NaN   NaN   NaN   NaN   NaN   NaN  ...     \n",
       "3   NaN   NaN   NaN   NaN   NaN   NaN   NaN   NaN   NaN   NaN  ...     \n",
       "4   NaN   NaN   NaN   NaN   NaN   NaN   NaN   NaN   NaN   NaN  ...     \n",
       "\n",
       "      var71     var72  var73  var74     var75  var76  var77  var78  var79  \\\n",
       "0  0.780088       NaN    NaN    NaN  0.803526    NaN    NaN    NaN    NaN   \n",
       "1       NaN       NaN    NaN    NaN  0.561473    NaN    NaN    NaN    NaN   \n",
       "2  0.817810       NaN    NaN    NaN       NaN    NaN    NaN    NaN    NaN   \n",
       "3  0.734438  0.918015    NaN    NaN       NaN    NaN    NaN    NaN    NaN   \n",
       "4       NaN       NaN    NaN    NaN       NaN    NaN    NaN    NaN    NaN   \n",
       "\n",
       "   var80  \n",
       "0      1  \n",
       "1      0  \n",
       "2      1  \n",
       "3      0  \n",
       "4      1  \n",
       "\n",
       "[5 rows x 81 columns]"
      ]
     },
     "execution_count": 3,
     "metadata": {},
     "output_type": "execute_result"
    }
   ],
   "source": [
    "print(type(df_in))\n",
    "print(df_in.shape, df_in.ndim)\n",
    "print(df_in.columns) # from var0 to var80\n",
    "df_in.head()"
   ]
  },
  {
   "cell_type": "code",
   "execution_count": 4,
   "metadata": {},
   "outputs": [
    {
     "data": {
      "text/html": [
       "<div>\n",
       "<style scoped>\n",
       "    .dataframe tbody tr th:only-of-type {\n",
       "        vertical-align: middle;\n",
       "    }\n",
       "\n",
       "    .dataframe tbody tr th {\n",
       "        vertical-align: top;\n",
       "    }\n",
       "\n",
       "    .dataframe thead th {\n",
       "        text-align: right;\n",
       "    }\n",
       "</style>\n",
       "<table border=\"1\" class=\"dataframe\">\n",
       "  <thead>\n",
       "    <tr style=\"text-align: right;\">\n",
       "      <th></th>\n",
       "      <th>var0</th>\n",
       "      <th>var1</th>\n",
       "      <th>var2</th>\n",
       "      <th>var3</th>\n",
       "      <th>var4</th>\n",
       "      <th>var5</th>\n",
       "      <th>var6</th>\n",
       "      <th>var7</th>\n",
       "      <th>var8</th>\n",
       "      <th>var9</th>\n",
       "      <th>...</th>\n",
       "      <th>var71</th>\n",
       "      <th>var72</th>\n",
       "      <th>var73</th>\n",
       "      <th>var74</th>\n",
       "      <th>var75</th>\n",
       "      <th>var76</th>\n",
       "      <th>var77</th>\n",
       "      <th>var78</th>\n",
       "      <th>var79</th>\n",
       "      <th>var80</th>\n",
       "    </tr>\n",
       "  </thead>\n",
       "  <tbody>\n",
       "    <tr>\n",
       "      <th>count</th>\n",
       "      <td>38.000000</td>\n",
       "      <td>1.000000</td>\n",
       "      <td>6.000000</td>\n",
       "      <td>0.0</td>\n",
       "      <td>1.000000</td>\n",
       "      <td>0.0</td>\n",
       "      <td>0.0</td>\n",
       "      <td>1.000000</td>\n",
       "      <td>0.0</td>\n",
       "      <td>1.000000</td>\n",
       "      <td>...</td>\n",
       "      <td>659.000000</td>\n",
       "      <td>196.000000</td>\n",
       "      <td>46.000000</td>\n",
       "      <td>28.000000</td>\n",
       "      <td>96.000000</td>\n",
       "      <td>1.000000</td>\n",
       "      <td>3.000000</td>\n",
       "      <td>0.0</td>\n",
       "      <td>13.000000</td>\n",
       "      <td>1012.000000</td>\n",
       "    </tr>\n",
       "    <tr>\n",
       "      <th>mean</th>\n",
       "      <td>0.541918</td>\n",
       "      <td>0.353806</td>\n",
       "      <td>0.731267</td>\n",
       "      <td>NaN</td>\n",
       "      <td>0.469247</td>\n",
       "      <td>NaN</td>\n",
       "      <td>NaN</td>\n",
       "      <td>0.428085</td>\n",
       "      <td>NaN</td>\n",
       "      <td>0.761168</td>\n",
       "      <td>...</td>\n",
       "      <td>0.791666</td>\n",
       "      <td>0.824518</td>\n",
       "      <td>0.494588</td>\n",
       "      <td>0.697710</td>\n",
       "      <td>0.605281</td>\n",
       "      <td>0.416034</td>\n",
       "      <td>0.504890</td>\n",
       "      <td>NaN</td>\n",
       "      <td>0.474636</td>\n",
       "      <td>0.599802</td>\n",
       "    </tr>\n",
       "    <tr>\n",
       "      <th>std</th>\n",
       "      <td>0.205911</td>\n",
       "      <td>NaN</td>\n",
       "      <td>0.257334</td>\n",
       "      <td>NaN</td>\n",
       "      <td>NaN</td>\n",
       "      <td>NaN</td>\n",
       "      <td>NaN</td>\n",
       "      <td>NaN</td>\n",
       "      <td>NaN</td>\n",
       "      <td>NaN</td>\n",
       "      <td>...</td>\n",
       "      <td>0.198237</td>\n",
       "      <td>0.208333</td>\n",
       "      <td>0.146734</td>\n",
       "      <td>0.212055</td>\n",
       "      <td>0.229455</td>\n",
       "      <td>NaN</td>\n",
       "      <td>0.162619</td>\n",
       "      <td>NaN</td>\n",
       "      <td>0.159163</td>\n",
       "      <td>0.490180</td>\n",
       "    </tr>\n",
       "    <tr>\n",
       "      <th>min</th>\n",
       "      <td>0.301592</td>\n",
       "      <td>0.353806</td>\n",
       "      <td>0.355660</td>\n",
       "      <td>NaN</td>\n",
       "      <td>0.469247</td>\n",
       "      <td>NaN</td>\n",
       "      <td>NaN</td>\n",
       "      <td>0.428085</td>\n",
       "      <td>NaN</td>\n",
       "      <td>0.761168</td>\n",
       "      <td>...</td>\n",
       "      <td>0.301418</td>\n",
       "      <td>0.302790</td>\n",
       "      <td>0.301601</td>\n",
       "      <td>0.374590</td>\n",
       "      <td>0.301922</td>\n",
       "      <td>0.416034</td>\n",
       "      <td>0.361422</td>\n",
       "      <td>NaN</td>\n",
       "      <td>0.305978</td>\n",
       "      <td>0.000000</td>\n",
       "    </tr>\n",
       "    <tr>\n",
       "      <th>25%</th>\n",
       "      <td>0.372851</td>\n",
       "      <td>0.353806</td>\n",
       "      <td>0.548517</td>\n",
       "      <td>NaN</td>\n",
       "      <td>0.469247</td>\n",
       "      <td>NaN</td>\n",
       "      <td>NaN</td>\n",
       "      <td>0.428085</td>\n",
       "      <td>NaN</td>\n",
       "      <td>0.761168</td>\n",
       "      <td>...</td>\n",
       "      <td>0.661520</td>\n",
       "      <td>0.686593</td>\n",
       "      <td>0.402914</td>\n",
       "      <td>0.464248</td>\n",
       "      <td>0.367000</td>\n",
       "      <td>0.416034</td>\n",
       "      <td>0.416564</td>\n",
       "      <td>NaN</td>\n",
       "      <td>0.351445</td>\n",
       "      <td>0.000000</td>\n",
       "    </tr>\n",
       "    <tr>\n",
       "      <th>50%</th>\n",
       "      <td>0.450597</td>\n",
       "      <td>0.353806</td>\n",
       "      <td>0.826461</td>\n",
       "      <td>NaN</td>\n",
       "      <td>0.469247</td>\n",
       "      <td>NaN</td>\n",
       "      <td>NaN</td>\n",
       "      <td>0.428085</td>\n",
       "      <td>NaN</td>\n",
       "      <td>0.761168</td>\n",
       "      <td>...</td>\n",
       "      <td>0.873022</td>\n",
       "      <td>0.927602</td>\n",
       "      <td>0.465248</td>\n",
       "      <td>0.791079</td>\n",
       "      <td>0.597592</td>\n",
       "      <td>0.416034</td>\n",
       "      <td>0.471706</td>\n",
       "      <td>NaN</td>\n",
       "      <td>0.421320</td>\n",
       "      <td>1.000000</td>\n",
       "    </tr>\n",
       "    <tr>\n",
       "      <th>75%</th>\n",
       "      <td>0.726605</td>\n",
       "      <td>0.353806</td>\n",
       "      <td>0.912303</td>\n",
       "      <td>NaN</td>\n",
       "      <td>0.469247</td>\n",
       "      <td>NaN</td>\n",
       "      <td>NaN</td>\n",
       "      <td>0.428085</td>\n",
       "      <td>NaN</td>\n",
       "      <td>0.761168</td>\n",
       "      <td>...</td>\n",
       "      <td>0.950692</td>\n",
       "      <td>0.986650</td>\n",
       "      <td>0.557554</td>\n",
       "      <td>0.870683</td>\n",
       "      <td>0.827556</td>\n",
       "      <td>0.416034</td>\n",
       "      <td>0.576623</td>\n",
       "      <td>NaN</td>\n",
       "      <td>0.519745</td>\n",
       "      <td>1.000000</td>\n",
       "    </tr>\n",
       "    <tr>\n",
       "      <th>max</th>\n",
       "      <td>0.979691</td>\n",
       "      <td>0.353806</td>\n",
       "      <td>0.982232</td>\n",
       "      <td>NaN</td>\n",
       "      <td>0.469247</td>\n",
       "      <td>NaN</td>\n",
       "      <td>NaN</td>\n",
       "      <td>0.428085</td>\n",
       "      <td>NaN</td>\n",
       "      <td>0.761168</td>\n",
       "      <td>...</td>\n",
       "      <td>0.996987</td>\n",
       "      <td>0.999477</td>\n",
       "      <td>0.868537</td>\n",
       "      <td>0.966329</td>\n",
       "      <td>0.994136</td>\n",
       "      <td>0.416034</td>\n",
       "      <td>0.681541</td>\n",
       "      <td>NaN</td>\n",
       "      <td>0.854564</td>\n",
       "      <td>1.000000</td>\n",
       "    </tr>\n",
       "  </tbody>\n",
       "</table>\n",
       "<p>8 rows × 81 columns</p>\n",
       "</div>"
      ],
      "text/plain": [
       "            var0      var1      var2  var3      var4  var5  var6      var7  \\\n",
       "count  38.000000  1.000000  6.000000   0.0  1.000000   0.0   0.0  1.000000   \n",
       "mean    0.541918  0.353806  0.731267   NaN  0.469247   NaN   NaN  0.428085   \n",
       "std     0.205911       NaN  0.257334   NaN       NaN   NaN   NaN       NaN   \n",
       "min     0.301592  0.353806  0.355660   NaN  0.469247   NaN   NaN  0.428085   \n",
       "25%     0.372851  0.353806  0.548517   NaN  0.469247   NaN   NaN  0.428085   \n",
       "50%     0.450597  0.353806  0.826461   NaN  0.469247   NaN   NaN  0.428085   \n",
       "75%     0.726605  0.353806  0.912303   NaN  0.469247   NaN   NaN  0.428085   \n",
       "max     0.979691  0.353806  0.982232   NaN  0.469247   NaN   NaN  0.428085   \n",
       "\n",
       "       var8      var9     ...            var71       var72      var73  \\\n",
       "count   0.0  1.000000     ...       659.000000  196.000000  46.000000   \n",
       "mean    NaN  0.761168     ...         0.791666    0.824518   0.494588   \n",
       "std     NaN       NaN     ...         0.198237    0.208333   0.146734   \n",
       "min     NaN  0.761168     ...         0.301418    0.302790   0.301601   \n",
       "25%     NaN  0.761168     ...         0.661520    0.686593   0.402914   \n",
       "50%     NaN  0.761168     ...         0.873022    0.927602   0.465248   \n",
       "75%     NaN  0.761168     ...         0.950692    0.986650   0.557554   \n",
       "max     NaN  0.761168     ...         0.996987    0.999477   0.868537   \n",
       "\n",
       "           var74      var75     var76     var77  var78      var79        var80  \n",
       "count  28.000000  96.000000  1.000000  3.000000    0.0  13.000000  1012.000000  \n",
       "mean    0.697710   0.605281  0.416034  0.504890    NaN   0.474636     0.599802  \n",
       "std     0.212055   0.229455       NaN  0.162619    NaN   0.159163     0.490180  \n",
       "min     0.374590   0.301922  0.416034  0.361422    NaN   0.305978     0.000000  \n",
       "25%     0.464248   0.367000  0.416034  0.416564    NaN   0.351445     0.000000  \n",
       "50%     0.791079   0.597592  0.416034  0.471706    NaN   0.421320     1.000000  \n",
       "75%     0.870683   0.827556  0.416034  0.576623    NaN   0.519745     1.000000  \n",
       "max     0.966329   0.994136  0.416034  0.681541    NaN   0.854564     1.000000  \n",
       "\n",
       "[8 rows x 81 columns]"
      ]
     },
     "execution_count": 4,
     "metadata": {},
     "output_type": "execute_result"
    }
   ],
   "source": [
    "df_in.describe() # count shows that lots of columns have missing values NaN"
   ]
  },
  {
   "cell_type": "code",
   "execution_count": 5,
   "metadata": {},
   "outputs": [
    {
     "name": "stdout",
     "output_type": "stream",
     "text": [
      "var39     39.822134\n",
      "var41     15.415020\n",
      "var45     11.363636\n",
      "var56     15.019763\n",
      "var58     12.450593\n",
      "var60      6.027668\n",
      "var61     58.498024\n",
      "var68     18.675889\n",
      "var69     24.802372\n",
      "var71     65.118577\n",
      "var72     19.367589\n",
      "var75      9.486166\n",
      "var80    100.000000\n",
      "dtype: float64\n",
      "Index(['var39', 'var41', 'var45', 'var56', 'var58', 'var60', 'var61', 'var68',\n",
      "       'var69', 'var71', 'var72', 'var75', 'var80'],\n",
      "      dtype='object')\n",
      "13\n"
     ]
    }
   ],
   "source": [
    "#df_in.info() # here the count column is same as the count in describe()\n",
    "perc_not_null = (df_in.count()/df_in.shape[0])*100 # this gives percentage of non-null entries\n",
    "print(perc_not_null[perc_not_null>5])\n",
    "cols_to_select=df_in.columns[df_in.count()>50] # 50 count corresponds to 5% non-null\n",
    "print(cols_to_select)\n",
    "print(len(cols_to_select))"
   ]
  },
  {
   "cell_type": "markdown",
   "metadata": {},
   "source": [
    "### Explore target variable"
   ]
  },
  {
   "cell_type": "code",
   "execution_count": 6,
   "metadata": {},
   "outputs": [
    {
     "name": "stdout",
     "output_type": "stream",
     "text": [
      "<class 'pandas.core.series.Series'>\n",
      "[1 0]\n",
      "2\n"
     ]
    }
   ],
   "source": [
    "print(type(df_in.var80))\n",
    "print(df_in.var80.unique())\n",
    "print(df_in.var80.nunique())"
   ]
  },
  {
   "cell_type": "code",
   "execution_count": 7,
   "metadata": {},
   "outputs": [
    {
     "data": {
      "text/plain": [
       "1    607\n",
       "0    405\n",
       "Name: var80, dtype: int64"
      ]
     },
     "execution_count": 7,
     "metadata": {},
     "output_type": "execute_result"
    }
   ],
   "source": [
    "pd.value_counts(df_in.var80) "
   ]
  },
  {
   "cell_type": "code",
   "execution_count": 8,
   "metadata": {},
   "outputs": [
    {
     "data": {
      "text/plain": [
       "1    0.599802\n",
       "0    0.400198\n",
       "Name: var80, dtype: float64"
      ]
     },
     "execution_count": 8,
     "metadata": {},
     "output_type": "execute_result"
    }
   ],
   "source": [
    "df_in.var80.value_counts()/df_in.shape[0]"
   ]
  },
  {
   "cell_type": "code",
   "execution_count": 9,
   "metadata": {},
   "outputs": [
    {
     "data": {
      "text/plain": [
       "<matplotlib.axes._subplots.AxesSubplot at 0x24e929563c8>"
      ]
     },
     "execution_count": 9,
     "metadata": {},
     "output_type": "execute_result"
    },
    {
     "data": {
      "image/png": "[encoded data removed]",
      "text/plain": [
       "<Figure size 432x288 with 1 Axes>"
      ]
     },
     "metadata": {},
     "output_type": "display_data"
    }
   ],
   "source": [
    "plt.figure()\n",
    "sns.countplot(x=\"var80\", data=df_in)"
   ]
  },
  {
   "cell_type": "markdown",
   "metadata": {},
   "source": [
    "### Select columns with > 5% non-null values, 13 columns (12 features + 1 target)"
   ]
  },
  {
   "cell_type": "code",
   "execution_count": 10,
   "metadata": {},
   "outputs": [],
   "source": [
    "df_final = df_in[cols_to_select]"
   ]
  },
  {
   "cell_type": "code",
   "execution_count": 11,
   "metadata": {},
   "outputs": [
    {
     "data": {
      "text/plain": [
       "Index(['var39', 'var41', 'var45', 'var56', 'var58', 'var60', 'var61', 'var68',\n",
       "       'var69', 'var71', 'var72', 'var75', 'var80'],\n",
       "      dtype='object')"
      ]
     },
     "execution_count": 11,
     "metadata": {},
     "output_type": "execute_result"
    }
   ],
   "source": [
    "df_final.columns"
   ]
  },
  {
   "cell_type": "code",
   "execution_count": 12,
   "metadata": {},
   "outputs": [
    {
     "data": {
      "text/plain": [
       "(1012, 13)"
      ]
     },
     "execution_count": 12,
     "metadata": {},
     "output_type": "execute_result"
    }
   ],
   "source": [
    "df_final.shape"
   ]
  },
  {
   "cell_type": "code",
   "execution_count": 13,
   "metadata": {},
   "outputs": [
    {
     "data": {
      "text/plain": [
       "var39     403\n",
       "var41     156\n",
       "var45     115\n",
       "var56     152\n",
       "var58     126\n",
       "var60      61\n",
       "var61     592\n",
       "var68     189\n",
       "var69     251\n",
       "var71     659\n",
       "var72     196\n",
       "var75      96\n",
       "var80    1012\n",
       "dtype: int64"
      ]
     },
     "execution_count": 13,
     "metadata": {},
     "output_type": "execute_result"
    }
   ],
   "source": [
    "df_final.count()"
   ]
  },
  {
   "cell_type": "code",
   "execution_count": 14,
   "metadata": {},
   "outputs": [
    {
     "data": {
      "text/plain": [
       "var39    1012\n",
       "var41    1012\n",
       "var45    1012\n",
       "var56    1012\n",
       "var58    1012\n",
       "var60    1012\n",
       "var61    1012\n",
       "var68    1012\n",
       "var69    1012\n",
       "var71    1012\n",
       "var72    1012\n",
       "var75    1012\n",
       "var80    1012\n",
       "dtype: int64"
      ]
     },
     "execution_count": 14,
     "metadata": {},
     "output_type": "execute_result"
    }
   ],
   "source": [
    "df_final=df_final.fillna(0, axis=1)\n",
    "df_final.count()"
   ]
  },
  {
   "cell_type": "code",
   "execution_count": 15,
   "metadata": {},
   "outputs": [
    {
     "data": {
      "text/html": [
       "<div>\n",
       "<style scoped>\n",
       "    .dataframe tbody tr th:only-of-type {\n",
       "        vertical-align: middle;\n",
       "    }\n",
       "\n",
       "    .dataframe tbody tr th {\n",
       "        vertical-align: top;\n",
       "    }\n",
       "\n",
       "    .dataframe thead th {\n",
       "        text-align: right;\n",
       "    }\n",
       "</style>\n",
       "<table border=\"1\" class=\"dataframe\">\n",
       "  <thead>\n",
       "    <tr style=\"text-align: right;\">\n",
       "      <th></th>\n",
       "      <th>var39</th>\n",
       "      <th>var41</th>\n",
       "      <th>var45</th>\n",
       "      <th>var56</th>\n",
       "      <th>var58</th>\n",
       "      <th>var60</th>\n",
       "      <th>var61</th>\n",
       "      <th>var68</th>\n",
       "      <th>var69</th>\n",
       "      <th>var71</th>\n",
       "      <th>var72</th>\n",
       "      <th>var75</th>\n",
       "      <th>var80</th>\n",
       "    </tr>\n",
       "  </thead>\n",
       "  <tbody>\n",
       "    <tr>\n",
       "      <th>0</th>\n",
       "      <td>0.000000</td>\n",
       "      <td>0.0</td>\n",
       "      <td>0.0</td>\n",
       "      <td>0.000000</td>\n",
       "      <td>0.000000</td>\n",
       "      <td>0.00000</td>\n",
       "      <td>0.742548</td>\n",
       "      <td>0.000000</td>\n",
       "      <td>0.000000</td>\n",
       "      <td>0.780088</td>\n",
       "      <td>0.000000</td>\n",
       "      <td>0.803526</td>\n",
       "      <td>1</td>\n",
       "    </tr>\n",
       "    <tr>\n",
       "      <th>1</th>\n",
       "      <td>0.310861</td>\n",
       "      <td>0.0</td>\n",
       "      <td>0.0</td>\n",
       "      <td>0.987201</td>\n",
       "      <td>0.887975</td>\n",
       "      <td>0.35675</td>\n",
       "      <td>0.000000</td>\n",
       "      <td>0.984366</td>\n",
       "      <td>0.955945</td>\n",
       "      <td>0.000000</td>\n",
       "      <td>0.000000</td>\n",
       "      <td>0.561473</td>\n",
       "      <td>0</td>\n",
       "    </tr>\n",
       "    <tr>\n",
       "      <th>2</th>\n",
       "      <td>0.000000</td>\n",
       "      <td>0.0</td>\n",
       "      <td>0.0</td>\n",
       "      <td>0.000000</td>\n",
       "      <td>0.000000</td>\n",
       "      <td>0.00000</td>\n",
       "      <td>0.988848</td>\n",
       "      <td>0.000000</td>\n",
       "      <td>0.000000</td>\n",
       "      <td>0.817810</td>\n",
       "      <td>0.000000</td>\n",
       "      <td>0.000000</td>\n",
       "      <td>1</td>\n",
       "    </tr>\n",
       "    <tr>\n",
       "      <th>3</th>\n",
       "      <td>0.000000</td>\n",
       "      <td>0.0</td>\n",
       "      <td>0.0</td>\n",
       "      <td>0.000000</td>\n",
       "      <td>0.000000</td>\n",
       "      <td>0.00000</td>\n",
       "      <td>0.000000</td>\n",
       "      <td>0.998717</td>\n",
       "      <td>0.990744</td>\n",
       "      <td>0.734438</td>\n",
       "      <td>0.918015</td>\n",
       "      <td>0.000000</td>\n",
       "      <td>0</td>\n",
       "    </tr>\n",
       "    <tr>\n",
       "      <th>4</th>\n",
       "      <td>0.000000</td>\n",
       "      <td>0.0</td>\n",
       "      <td>0.0</td>\n",
       "      <td>0.000000</td>\n",
       "      <td>0.000000</td>\n",
       "      <td>0.00000</td>\n",
       "      <td>0.987820</td>\n",
       "      <td>0.000000</td>\n",
       "      <td>0.000000</td>\n",
       "      <td>0.000000</td>\n",
       "      <td>0.000000</td>\n",
       "      <td>0.000000</td>\n",
       "      <td>1</td>\n",
       "    </tr>\n",
       "  </tbody>\n",
       "</table>\n",
       "</div>"
      ],
      "text/plain": [
       "      var39  var41  var45     var56     var58    var60     var61     var68  \\\n",
       "0  0.000000    0.0    0.0  0.000000  0.000000  0.00000  0.742548  0.000000   \n",
       "1  0.310861    0.0    0.0  0.987201  0.887975  0.35675  0.000000  0.984366   \n",
       "2  0.000000    0.0    0.0  0.000000  0.000000  0.00000  0.988848  0.000000   \n",
       "3  0.000000    0.0    0.0  0.000000  0.000000  0.00000  0.000000  0.998717   \n",
       "4  0.000000    0.0    0.0  0.000000  0.000000  0.00000  0.987820  0.000000   \n",
       "\n",
       "      var69     var71     var72     var75  var80  \n",
       "0  0.000000  0.780088  0.000000  0.803526      1  \n",
       "1  0.955945  0.000000  0.000000  0.561473      0  \n",
       "2  0.000000  0.817810  0.000000  0.000000      1  \n",
       "3  0.990744  0.734438  0.918015  0.000000      0  \n",
       "4  0.000000  0.000000  0.000000  0.000000      1  "
      ]
     },
     "execution_count": 15,
     "metadata": {},
     "output_type": "execute_result"
    }
   ],
   "source": [
    "df_final.head()"
   ]
  },
  {
   "cell_type": "code",
   "execution_count": 16,
   "metadata": {},
   "outputs": [],
   "source": [
    "X = df_final.drop(\"var80\", axis=1)\n",
    "y = df_final[\"var80\"]\n",
    "X_train, X_test, y_train, y_test = train_test_split(X, y, test_size=0.2, random_state=21, stratify=y)"
   ]
  },
  {
   "cell_type": "code",
   "execution_count": 17,
   "metadata": {},
   "outputs": [
    {
     "name": "stdout",
     "output_type": "stream",
     "text": [
      "(1012, 12)\n",
      "(1012,)\n",
      "(809, 12)\n",
      "(203, 12)\n"
     ]
    },
    {
     "data": {
      "text/plain": [
       "pandas.core.frame.DataFrame"
      ]
     },
     "execution_count": 17,
     "metadata": {},
     "output_type": "execute_result"
    }
   ],
   "source": [
    "print(X.shape)\n",
    "print(y.shape)\n",
    "print(X_train.shape)\n",
    "print(X_test.shape)\n",
    "type(X_train)"
   ]
  },
  {
   "cell_type": "code",
   "execution_count": 18,
   "metadata": {},
   "outputs": [
    {
     "name": "stdout",
     "output_type": "stream",
     "text": [
      "frac X_train 79.94%, X_test 20.06% \n"
     ]
    }
   ],
   "source": [
    "frac_X_train = (X_train.shape[0]/X.shape[0])*100\n",
    "frac_X_test = (X_test.shape[0]/X.shape[0])*100\n",
    "print(\"frac X_train {0:.2f}%, X_test {1:.2f}% \".format(frac_X_train, frac_X_test))"
   ]
  },
  {
   "cell_type": "code",
   "execution_count": 19,
   "metadata": {},
   "outputs": [
    {
     "data": {
      "text/plain": [
       "1    122\n",
       "0     81\n",
       "Name: var80, dtype: int64"
      ]
     },
     "execution_count": 19,
     "metadata": {},
     "output_type": "execute_result"
    }
   ],
   "source": [
    "y_test.value_counts()"
   ]
  },
  {
   "cell_type": "markdown",
   "metadata": {},
   "source": [
    "# Logistic Regression"
   ]
  },
  {
   "cell_type": "code",
   "execution_count": 20,
   "metadata": {},
   "outputs": [
    {
     "data": {
      "text/plain": [
       "LogisticRegression(C=1.0, class_weight=None, dual=False, fit_intercept=True,\n",
       "          intercept_scaling=1, max_iter=100, multi_class='ovr', n_jobs=1,\n",
       "          penalty='l2', random_state=None, solver='liblinear', tol=0.0001,\n",
       "          verbose=0, warm_start=False)"
      ]
     },
     "execution_count": 20,
     "metadata": {},
     "output_type": "execute_result"
    }
   ],
   "source": [
    "lr_model = LogisticRegression()\n",
    "lr_model"
   ]
  },
  {
   "cell_type": "code",
   "execution_count": 21,
   "metadata": {},
   "outputs": [
    {
     "data": {
      "text/plain": [
       "LogisticRegression(C=1.0, class_weight=None, dual=False, fit_intercept=True,\n",
       "          intercept_scaling=1, max_iter=100, multi_class='ovr', n_jobs=1,\n",
       "          penalty='l2', random_state=None, solver='liblinear', tol=0.0001,\n",
       "          verbose=0, warm_start=False)"
      ]
     },
     "execution_count": 21,
     "metadata": {},
     "output_type": "execute_result"
    }
   ],
   "source": [
    "lr_model.fit(X_train, y_train)\n",
    "lr_model"
   ]
  },
  {
   "cell_type": "code",
   "execution_count": 22,
   "metadata": {},
   "outputs": [
    {
     "name": "stdout",
     "output_type": "stream",
     "text": [
      "[[117   5]\n",
      " [  1  80]]\n"
     ]
    }
   ],
   "source": [
    "y_pred_lr_model = lr_model.predict(X_test)\n",
    "print(confusion_matrix(y_test, y_pred_lr_model, labels=[1,0]))"
   ]
  },
  {
   "cell_type": "code",
   "execution_count": 23,
   "metadata": {},
   "outputs": [
    {
     "data": {
      "text/plain": [
       "0.9704433497536946"
      ]
     },
     "execution_count": 23,
     "metadata": {},
     "output_type": "execute_result"
    }
   ],
   "source": [
    "lr_model.score(X_test, y_test)"
   ]
  },
  {
   "cell_type": "code",
   "execution_count": 24,
   "metadata": {},
   "outputs": [],
   "source": [
    "y_pred_lr_model_prob = lr_model.predict_proba(X_test)"
   ]
  },
  {
   "cell_type": "code",
   "execution_count": 25,
   "metadata": {},
   "outputs": [
    {
     "data": {
      "text/plain": [
       "array([[9.64248888e-01, 3.57511116e-02],\n",
       "       [9.60495837e-01, 3.95041630e-02],\n",
       "       [1.60620919e-02, 9.83937908e-01],\n",
       "       [1.71407711e-01, 8.28592289e-01],\n",
       "       [9.87374334e-01, 1.26256663e-02],\n",
       "       [9.99434787e-01, 5.65212735e-04],\n",
       "       [8.42859062e-03, 9.91571409e-01],\n",
       "       [1.29919682e-02, 9.87008032e-01],\n",
       "       [1.37102684e-02, 9.86289732e-01],\n",
       "       [9.99262386e-01, 7.37614376e-04]])"
      ]
     },
     "execution_count": 25,
     "metadata": {},
     "output_type": "execute_result"
    }
   ],
   "source": [
    "y_pred_lr_model_prob[0:10]"
   ]
  },
  {
   "cell_type": "code",
   "execution_count": 26,
   "metadata": {},
   "outputs": [
    {
     "name": "stdout",
     "output_type": "stream",
     "text": [
      "auc score, lr model :  0.9980773122849625\n"
     ]
    }
   ],
   "source": [
    "auc_score_lr_model = roc_auc_score(y_test, y_pred_lr_model_prob[:,1])\n",
    "print(\"auc score, lr model : \", auc_score_lr_model)"
   ]
  },
  {
   "cell_type": "code",
   "execution_count": 27,
   "metadata": {},
   "outputs": [
    {
     "name": "stdout",
     "output_type": "stream",
     "text": [
      "[0.         0.         0.01234568 0.01234568 0.03703704 0.03703704\n",
      " 0.0617284  0.07407407 0.19753086 0.22222222 0.65432099 0.67901235\n",
      " 1.        ]\n",
      "[0.00819672 0.95081967 0.95081967 0.96721311 0.96721311 0.98360656\n",
      " 0.98360656 1.         1.         1.         1.         1.\n",
      " 1.        ]\n",
      "[9.95400470e-01 8.06033724e-01 5.44677307e-01 4.78800400e-01\n",
      " 3.91624612e-01 3.37523271e-01 3.20294359e-01 3.01979263e-01\n",
      " 1.44812222e-01 1.11722481e-01 7.70293099e-03 7.27112265e-03\n",
      " 2.40635402e-04]\n"
     ]
    }
   ],
   "source": [
    "lr_fpr, lr_tpr, lr_thresholds = roc_curve(y_test, y_pred_lr_model_prob[:,1])\n",
    "print(lr_fpr)\n",
    "print(lr_tpr)\n",
    "print(lr_thresholds)"
   ]
  },
  {
   "cell_type": "code",
   "execution_count": 28,
   "metadata": {},
   "outputs": [
    {
     "data": {
      "text/plain": [
       "Text(0.5,1,'Logistic Regression ROC curve')"
      ]
     },
     "execution_count": 28,
     "metadata": {},
     "output_type": "execute_result"
    },
    {
     "data": {
      "image/png": "[encoded data removed]",
      "text/plain": [
       "<Figure size 432x288 with 1 Axes>"
      ]
     },
     "metadata": {},
     "output_type": "display_data"
    }
   ],
   "source": [
    "plt.plot([0,1], [0,1], \"k--\")\n",
    "plt.plot(lr_fpr, lr_tpr, marker=\"o\", label=\"Logistic Regression\")\n",
    "plt.xlabel(\"False Positive Rate\")\n",
    "plt.ylabel(\"True Positive Rate\")\n",
    "plt.title(\"Logistic Regression ROC curve\")"
   ]
  },
  {
   "cell_type": "code",
   "execution_count": 29,
   "metadata": {},
   "outputs": [
    {
     "name": "stdout",
     "output_type": "stream",
     "text": [
      "auc score lr model :  0.9980773122849625\n"
     ]
    }
   ],
   "source": [
    "auc_score_lr_model = roc_auc_score(y_test, y_pred_lr_model_prob[:,1])\n",
    "print(\"auc score lr model : \", auc_score_lr_model)"
   ]
  },
  {
   "cell_type": "code",
   "execution_count": null,
   "metadata": {},
   "outputs": [],
   "source": []
  }
 ],
 "metadata": {
  "kernelspec": {
   "display_name": "Python 3",
   "language": "python",
   "name": "python3"
  },
  "language_info": {
   "codemirror_mode": {
    "name": "ipython",
    "version": 3
   },
   "file_extension": ".py",
   "mimetype": "text/x-python",
   "name": "python",
   "nbconvert_exporter": "python",
   "pygments_lexer": "ipython3",
   "version": "3.6.4"
  }
 },
 "nbformat": 4,
 "nbformat_minor": 2
}
